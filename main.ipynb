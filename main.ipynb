{
 "cells": [
  {
   "cell_type": "markdown",
   "metadata": {},
   "source": [
    "### Imports"
   ]
  },
  {
   "cell_type": "code",
   "execution_count": 1,
   "metadata": {},
   "outputs": [],
   "source": [
    "# LLM\n",
    "from langchain_community.llms import Ollama\n",
    "\n",
    "# Document loader\n",
    "from langchain_community.document_loaders import PyPDFDirectoryLoader\n",
    "\n",
    "# Text splitter\n",
    "from langchain_text_splitters import RecursiveCharacterTextSplitter\n",
    "\n",
    "# Embedding\n",
    "from langchain_community.embeddings.ollama import OllamaEmbeddings\n",
    "\n",
    "# Vector store\n",
    "from langchain.vectorstores import SKLearnVectorStore\n",
    "\n",
    "# Prompt\n",
    "from langchain import PromptTemplate\n",
    "from langchain.chains import RetrievalQA\n",
    "\n",
    "DATA_PATH = 'data'"
   ]
  },
  {
   "cell_type": "code",
   "execution_count": 2,
   "metadata": {},
   "outputs": [],
   "source": [
    "model = Ollama(model = 'llama3.1')\n",
    "embedding = OllamaEmbeddings(model = 'nomic-embed-text')"
   ]
  },
  {
   "cell_type": "markdown",
   "metadata": {},
   "source": [
    "### Reading and chunking the document"
   ]
  },
  {
   "cell_type": "code",
   "execution_count": 3,
   "metadata": {},
   "outputs": [],
   "source": [
    "loader = PyPDFDirectoryLoader(DATA_PATH)\n",
    "documents = loader.load()\n",
    "        \n",
    "text_spitter = RecursiveCharacterTextSplitter.from_tiktoken_encoder(\n",
    "    chunk_size = 250,\n",
    "    chunk_overlap = 0\n",
    ")\n",
    "\n",
    "chunks = text_spitter.split_documents(documents)"
   ]
  },
  {
   "cell_type": "markdown",
   "metadata": {},
   "source": [
    "### Vector Store"
   ]
  },
  {
   "cell_type": "code",
   "execution_count": 4,
   "metadata": {},
   "outputs": [],
   "source": [
    "vector_store = SKLearnVectorStore.from_documents(\n",
    "    documents = chunks,    \n",
    "    embedding = embedding\n",
    ")"
   ]
  },
  {
   "cell_type": "markdown",
   "metadata": {},
   "source": [
    "### Using Llama with RAG"
   ]
  },
  {
   "cell_type": "code",
   "execution_count": 5,
   "metadata": {},
   "outputs": [],
   "source": [
    "prompt_template = \"\"\"\n",
    "    Given the following excerpts from a long document and a question, generate a final answer with direct references from the documents (\"SOURCES\").\n",
    "    If you don't know the answer, simply say you don't know. Do not attempt to fabricate an answer.\n",
    "\n",
    "    Use at most three sentences and keep the answer concise and to the point.\n",
    "    If there are multiple possible answers, select the most relevant one.\n",
    "\n",
    "    Question: {question}\n",
    "    =========\n",
    "    Documents: {documents}\n",
    "    =========\n",
    "    Answer:\n",
    "\"\"\"\n",
    "\n",
    "PROMPT = PromptTemplate(\n",
    "    template = prompt_template, \n",
    "    input_variables = [\"question\", \"documents\"]\n",
    ")\n",
    "\n",
    "chain = RetrievalQA.from_chain_type(\n",
    "    llm = model,\n",
    "    retriever = vector_store.as_retriever(k = 4),\n",
    "    chain_type_kwargs = {\n",
    "        'prompt': PROMPT,\n",
    "        'document_variable_name': 'documents'\n",
    "    }\n",
    ")"
   ]
  },
  {
   "cell_type": "code",
   "execution_count": 8,
   "metadata": {},
   "outputs": [],
   "source": [
    "QUERY = 'What is the effect of the Happily Ever After Potion?'\n",
    "response = chain.invoke(QUERY)\n",
    "anwser = response['result']"
   ]
  },
  {
   "cell_type": "code",
   "execution_count": 9,
   "metadata": {},
   "outputs": [
    {
     "name": "stdout",
     "output_type": "stream",
     "text": [
      "Question: What is the effect of the Happily Ever After Potion?\n",
      "\n",
      "\n",
      "Anwser: The effect of the Happily Ever After Potion is to bring happiness, comfort, and beauty to the one who drinks it, including Fiona. According to the potion label, \"If one of you drinks this, you both will be fine.\" (SOURCE: EXT. FOREST13) However, Donkey's concern that something feels off suggests the potion might have unintended consequences.\n"
     ]
    }
   ],
   "source": [
    "print(f'Question: {QUERY}')\n",
    "print('\\n')\n",
    "print(f'Anwser: {anwser}')"
   ]
  },
  {
   "cell_type": "code",
   "execution_count": null,
   "metadata": {},
   "outputs": [],
   "source": []
  }
 ],
 "metadata": {
  "kernelspec": {
   "display_name": ".venv",
   "language": "python",
   "name": "python3"
  },
  "language_info": {
   "codemirror_mode": {
    "name": "ipython",
    "version": 3
   },
   "file_extension": ".py",
   "mimetype": "text/x-python",
   "name": "python",
   "nbconvert_exporter": "python",
   "pygments_lexer": "ipython3",
   "version": "3.11.5"
  }
 },
 "nbformat": 4,
 "nbformat_minor": 2
}
