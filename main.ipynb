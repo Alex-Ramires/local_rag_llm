{
 "cells": [
  {
   "cell_type": "markdown",
   "metadata": {},
   "source": [
    "### Imports"
   ]
  },
  {
   "cell_type": "code",
   "execution_count": 18,
   "metadata": {},
   "outputs": [],
   "source": [
    "# LLM\n",
    "from langchain_community.llms import Ollama\n",
    "\n",
    "# Document loader\n",
    "from langchain_community.document_loaders import PyPDFDirectoryLoader\n",
    "\n",
    "# Text splitter\n",
    "from langchain_text_splitters import RecursiveCharacterTextSplitter\n",
    "\n",
    "# Embedding\n",
    "from langchain_community.embeddings.ollama import OllamaEmbeddings\n",
    "\n",
    "# Vector store\n",
    "from langchain.vectorstores import SKLearnVectorStore\n",
    "\n",
    "# Prompt\n",
    "from langchain import PromptTemplate\n",
    "from langchain.chains import RetrievalQA\n",
    "\n",
    "MODEL = 'llama3.1'\n",
    "DATA_PATH = 'data'"
   ]
  },
  {
   "cell_type": "code",
   "execution_count": 19,
   "metadata": {},
   "outputs": [],
   "source": [
    "model = Ollama(model = MODEL)\n",
    "embeddings = OllamaEmbeddings(model = 'nomic-embed-text')"
   ]
  },
  {
   "cell_type": "markdown",
   "metadata": {},
   "source": [
    "### Reading and chunking the document"
   ]
  },
  {
   "cell_type": "code",
   "execution_count": 20,
   "metadata": {},
   "outputs": [],
   "source": [
    "loader = PyPDFDirectoryLoader(DATA_PATH)\n",
    "documents = loader.load()\n",
    "        \n",
    "text_spitter = RecursiveCharacterTextSplitter.from_tiktoken_encoder(\n",
    "    chunk_size = 250,\n",
    "    chunk_overlap = 0\n",
    ")\n",
    "\n",
    "chunks = text_spitter.split_documents(documents)"
   ]
  },
  {
   "cell_type": "markdown",
   "metadata": {},
   "source": [
    "### Creating the Vector Store"
   ]
  },
  {
   "cell_type": "code",
   "execution_count": 21,
   "metadata": {},
   "outputs": [],
   "source": [
    "vector_store = SKLearnVectorStore.from_documents(\n",
    "    documents = chunks,    \n",
    "    embedding = embeddings\n",
    ")"
   ]
  },
  {
   "cell_type": "markdown",
   "metadata": {},
   "source": [
    "### Using LLama with RAG"
   ]
  },
  {
   "cell_type": "code",
   "execution_count": 22,
   "metadata": {},
   "outputs": [],
   "source": [
    "retriever = vector_store.as_retriever(k = 4)\n",
    "\n",
    "prompt_template = \"\"\"\n",
    "    Given the following extracted parts of a long document and a question, create a final answer with references (\"SOURCES\"). \n",
    "    If you don't know the answer, just say that you don't know. Don't try to make up an answer.\n",
    "    Answer in Portuguese.\n",
    "\n",
    "    Use three sentences maximum and keep the answer concise. \n",
    "    Question: {question}\n",
    "    =========\n",
    "    Documents: {documents}\n",
    "    =========\n",
    "    Answer:\n",
    "\"\"\"\n",
    "\n",
    "PROMPT = PromptTemplate(\n",
    "    template = prompt_template, input_variables = [\"question\", \"documents\"]\n",
    ")\n",
    "\n",
    "chain = RetrievalQA.from_chain_type(\n",
    "    llm = model,\n",
    "    retriever = retriever,\n",
    "    chain_type_kwargs = {\n",
    "        'prompt': PROMPT,\n",
    "        'document_variable_name': 'documents'\n",
    "    }\n",
    ")"
   ]
  },
  {
   "cell_type": "code",
   "execution_count": 23,
   "metadata": {},
   "outputs": [],
   "source": [
    "QUERY = 'Eu posso receber propina na TARRAF?'\n",
    "response = chain.invoke(QUERY)\n",
    "resposta = response['result']"
   ]
  },
  {
   "cell_type": "code",
   "execution_count": 24,
   "metadata": {},
   "outputs": [
    {
     "name": "stdout",
     "output_type": "stream",
     "text": [
      "Pergunta: Eu posso receber propina na TARRAF?\n",
      "\n",
      "\n",
      "Resposta: Não, não é possível receber propina na TARRAF, pois o relacionamento com fornecedores e parceiros é pautado pelo sentido de parceria e cooperação, sendo necessário agir buscando os melhores interesses da empresa. Além disso, a TARRAF preza por uma relação transparente, saudável e de parceria, isenta de favorecimentos.\n",
      "\n",
      "(SOURCES: tarraf.com.br)\n"
     ]
    }
   ],
   "source": [
    "print(f'Pergunta: {QUERY}')\n",
    "print('\\n')\n",
    "print(f'Resposta: {resposta}')"
   ]
  },
  {
   "cell_type": "code",
   "execution_count": null,
   "metadata": {},
   "outputs": [],
   "source": []
  }
 ],
 "metadata": {
  "kernelspec": {
   "display_name": ".venv",
   "language": "python",
   "name": "python3"
  },
  "language_info": {
   "codemirror_mode": {
    "name": "ipython",
    "version": 3
   },
   "file_extension": ".py",
   "mimetype": "text/x-python",
   "name": "python",
   "nbconvert_exporter": "python",
   "pygments_lexer": "ipython3",
   "version": "3.11.5"
  }
 },
 "nbformat": 4,
 "nbformat_minor": 2
}
