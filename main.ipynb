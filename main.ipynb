{
 "cells": [
  {
   "cell_type": "markdown",
   "metadata": {},
   "source": [
    "### Imports"
   ]
  },
  {
   "cell_type": "code",
   "execution_count": 1,
   "metadata": {},
   "outputs": [],
   "source": [
    "import os\n",
    "from dotenv import load_dotenv\n",
    "\n",
    "load_dotenv()\n",
    "\n",
    "import langchain\n",
    "\n",
    "# LLM\n",
    "from langchain_community.llms import Ollama\n",
    "\n",
    "# Document loader\n",
    "from langchain_community.document_loaders import PyPDFDirectoryLoader\n",
    "\n",
    "# Text splitter\n",
    "from langchain_text_splitters import RecursiveCharacterTextSplitter\n",
    "\n",
    "# Embedding\n",
    "from langchain_community.embeddings.ollama import OllamaEmbeddings\n",
    "\n",
    "# Vector store\n",
    "from langchain.vectorstores.chroma import Chroma\n",
    "\n",
    "# Prompt\n",
    "from langchain import PromptTemplate\n",
    "from langchain.chains import RetrievalQA\n",
    "\n",
    "MODEL = 'llama3.1'\n",
    "DATA_PATH = 'data'\n",
    "CHROMA_PATH = 'chroma'"
   ]
  },
  {
   "cell_type": "code",
   "execution_count": 2,
   "metadata": {},
   "outputs": [],
   "source": [
    "model = Ollama(model = MODEL)\n",
    "# model.invoke('Olá, tudo bem?')\n",
    "\n",
    "embeddings = OllamaEmbeddings(model = 'nomic-embed-text')"
   ]
  },
  {
   "cell_type": "markdown",
   "metadata": {},
   "source": [
    "### Reading and chunking the document"
   ]
  },
  {
   "cell_type": "code",
   "execution_count": 3,
   "metadata": {},
   "outputs": [],
   "source": [
    "loader = PyPDFDirectoryLoader(DATA_PATH)\n",
    "documents = loader.load()\n",
    "        \n",
    "text_spitter = RecursiveCharacterTextSplitter(\n",
    "    chunk_size = 800,\n",
    "    chunk_overlap = 80,\n",
    "    length_function = len,\n",
    "    is_separator_regex = False\n",
    ")\n",
    "\n",
    "chunks = text_spitter.split_documents(documents)"
   ]
  },
  {
   "cell_type": "markdown",
   "metadata": {},
   "source": [
    "### Creating the Vector DB"
   ]
  },
  {
   "cell_type": "code",
   "execution_count": 4,
   "metadata": {},
   "outputs": [],
   "source": [
    "db = Chroma.from_documents(\n",
    "    documents = chunks,    \n",
    "    embedding = embeddings,\n",
    "    persist_directory = CHROMA_PATH\n",
    ")"
   ]
  },
  {
   "cell_type": "markdown",
   "metadata": {},
   "source": [
    "### Using LLama with RAG"
   ]
  },
  {
   "cell_type": "code",
   "execution_count": 5,
   "metadata": {},
   "outputs": [],
   "source": [
    "prompt_template = \"\"\"\n",
    "Given the following extracted parts of a long document and a question, create a final answer with references (\"SOURCES\"). \n",
    "If you don't know the answer, just say that you don't know. Don't try to make up an answer.\n",
    "ALWAYS return a \"SOURCES\" part in your answer. Answer in Portuguese.\n",
    "\n",
    "QUESTION: {question}\n",
    "=========\n",
    "{summaries}\n",
    "=========\n",
    "FINAL ANSWER:\"\"\"\n",
    "\n",
    "PROMPT = PromptTemplate(\n",
    "    template = prompt_template, input_variables = [\"summaries\", \"question\"]\n",
    ")\n",
    "\n",
    "langchain.verbose = False\n",
    "\n",
    "chain = RetrievalQA.from_chain_type(\n",
    "    llm = model,\n",
    "    retriever = db.as_retriever(search_kwargs={\"k\": 3}),\n",
    "    chain_type_kwargs={\n",
    "        'prompt': PROMPT,\n",
    "        'document_variable_name': 'summaries'\n",
    "    }\n",
    ")"
   ]
  },
  {
   "cell_type": "code",
   "execution_count": 6,
   "metadata": {},
   "outputs": [],
   "source": [
    "QUERY = 'Quais são as normas de saúde e seguraça do trabalho?'\n",
    "response = chain.invoke(QUERY)"
   ]
  },
  {
   "cell_type": "code",
   "execution_count": 7,
   "metadata": {},
   "outputs": [
    {
     "name": "stdout",
     "output_type": "stream",
     "text": [
      "Pergunta: Quais são as normas de saúde e seguraça do trabalho?\n",
      "\n",
      "\n",
      "Resposta: As normas de saúde e segurança do trabalho adotadas pela TARRAF incluem:\n",
      "\n",
      "• Agir conforme as normas de Saúde e Segurança do Trabalho;\n",
      "• Uso e conservação adequados dos equipamentos de proteção coletiva e individual;\n",
      "• Paralização da atividade em situações de risco;\n",
      "• Zelar por um local de trabalho limpo e realizar descartes corretamente.\n",
      "\n",
      "(Estas normas estão explicitadas no Código de Ética e Conduta 16, sob o título \"MEIO AMBIENTE E SEGURANÇA\")\n",
      "\n",
      "SOURCES:\n",
      "- Código de Ética e Conduta 16, MEIO AMBIENTE E SEGURANÇA (TARRAF)\n",
      "- Código de Ética e Conduta 16, MEIO AMBIENTE E SEGURANÇA (TARRAF)\n"
     ]
    }
   ],
   "source": [
    "resposta = response['result']\n",
    "\n",
    "print(f'Pergunta: {QUERY}')\n",
    "print('\\n')\n",
    "print(f'Resposta: {resposta}')"
   ]
  },
  {
   "cell_type": "code",
   "execution_count": null,
   "metadata": {},
   "outputs": [],
   "source": []
  },
  {
   "cell_type": "code",
   "execution_count": null,
   "metadata": {},
   "outputs": [],
   "source": []
  }
 ],
 "metadata": {
  "kernelspec": {
   "display_name": ".venv",
   "language": "python",
   "name": "python3"
  },
  "language_info": {
   "codemirror_mode": {
    "name": "ipython",
    "version": 3
   },
   "file_extension": ".py",
   "mimetype": "text/x-python",
   "name": "python",
   "nbconvert_exporter": "python",
   "pygments_lexer": "ipython3",
   "version": "3.11.5"
  }
 },
 "nbformat": 4,
 "nbformat_minor": 2
}
