{
 "cells": [
  {
   "cell_type": "markdown",
   "metadata": {},
   "source": [
    "### Imports"
   ]
  },
  {
   "cell_type": "code",
   "execution_count": 35,
   "metadata": {},
   "outputs": [],
   "source": [
    "# LLM\n",
    "from langchain_ollama import ChatOllama\n",
    "\n",
    "# Document loader\n",
    "from langchain_community.document_loaders import PyPDFDirectoryLoader\n",
    "\n",
    "# Text splitter\n",
    "from langchain_text_splitters import RecursiveCharacterTextSplitter\n",
    "\n",
    "# Embedding\n",
    "from langchain_community.embeddings.ollama import OllamaEmbeddings\n",
    "\n",
    "# Vector store\n",
    "from langchain.vectorstores import SKLearnVectorStore\n",
    "\n",
    "# Prompt\n",
    "from langchain import PromptTemplate\n",
    "from langchain.chains import RetrievalQA\n",
    "\n",
    "DATA_PATH = '../data'"
   ]
  },
  {
   "cell_type": "code",
   "execution_count": 36,
   "metadata": {},
   "outputs": [],
   "source": [
    "llm = ChatOllama(model = 'llama3.1', temperature = 0)\n",
    "embedding = OllamaEmbeddings(model = 'nomic-embed-text')"
   ]
  },
  {
   "cell_type": "markdown",
   "metadata": {},
   "source": [
    "### Reading and chunking the document"
   ]
  },
  {
   "cell_type": "code",
   "execution_count": 37,
   "metadata": {},
   "outputs": [],
   "source": [
    "loader = PyPDFDirectoryLoader(DATA_PATH)\n",
    "documents = loader.load()\n",
    "        \n",
    "text_spitter = RecursiveCharacterTextSplitter.from_tiktoken_encoder(\n",
    "    chunk_size = 250,\n",
    "    chunk_overlap = 0\n",
    ")\n",
    "\n",
    "chunks = text_spitter.split_documents(documents)"
   ]
  },
  {
   "cell_type": "markdown",
   "metadata": {},
   "source": [
    "### Vector Store"
   ]
  },
  {
   "cell_type": "code",
   "execution_count": 38,
   "metadata": {},
   "outputs": [],
   "source": [
    "vector_store = SKLearnVectorStore.from_documents(\n",
    "    documents = chunks,    \n",
    "    embedding = embedding\n",
    ")"
   ]
  },
  {
   "cell_type": "markdown",
   "metadata": {},
   "source": [
    "### Using Llama with RAG"
   ]
  },
  {
   "cell_type": "code",
   "execution_count": 48,
   "metadata": {},
   "outputs": [],
   "source": [
    "prompt_template = \"\"\"\n",
    "    Given the following extracted parts of a long document and a question, create a final answer with references to the file name and the relevant section where the information was found (\"SOURCES\").\n",
    "    \n",
    "    If the answer cannot be determined based on the provided context, simply state that you don't know.\n",
    "\n",
    "    ALWAYS return a \"SOURCES\" part in your answer.\n",
    "\n",
    "    Use three sentence maximum and keep the answer concise:\n",
    "\n",
    "    Question: {question}\n",
    "    ====================\n",
    "    {context}\n",
    "    ====================\n",
    "    Answer:\n",
    "\"\"\"\n",
    "\n",
    "prompt = PromptTemplate(\n",
    "    template = prompt_template,\n",
    "    input_variables = ['question', 'context']\n",
    ")\n",
    "\n",
    "rag_chain = RetrievalQA.from_chain_type(\n",
    "    llm = llm,\n",
    "    retriever = vector_store.as_retriever(k = 4),\n",
    "    chain_type_kwargs = {\n",
    "        'prompt': prompt,\n",
    "        'document_variable_name': 'context'\n",
    "    }\n",
    ")"
   ]
  },
  {
   "cell_type": "code",
   "execution_count": 49,
   "metadata": {},
   "outputs": [],
   "source": [
    "QUERY = 'What is the effect of the Happily Ever After Potion?'\n",
    "response = rag_chain.invoke(QUERY)"
   ]
  },
  {
   "cell_type": "code",
   "execution_count": 50,
   "metadata": {},
   "outputs": [
    {
     "name": "stdout",
     "output_type": "stream",
     "text": [
      "Question: What is the effect of the Happily Ever After Potion?\n",
      "\n",
      "Answer: The Happily Ever After Potion is intended to bring happiness and beauty to both the drinker and their true love, but it has an unintended effect on Fiona. The potion makes her beautiful, but also breaks a spell that was cast on her, making her unable to live as an ogre again. This causes Fiona to realize she can only break the spell by marrying her true love.\n",
      "\n",
      "SOURCES: \"Shrek\" script, page 28 and 56\n"
     ]
    }
   ],
   "source": [
    "print(f'Question: {QUERY}\\n')\n",
    "print(f'Answer: {response[\"result\"]}')"
   ]
  },
  {
   "cell_type": "code",
   "execution_count": null,
   "metadata": {},
   "outputs": [],
   "source": []
  }
 ],
 "metadata": {
  "kernelspec": {
   "display_name": ".venv",
   "language": "python",
   "name": "python3"
  },
  "language_info": {
   "codemirror_mode": {
    "name": "ipython",
    "version": 3
   },
   "file_extension": ".py",
   "mimetype": "text/x-python",
   "name": "python",
   "nbconvert_exporter": "python",
   "pygments_lexer": "ipython3",
   "version": "3.11.5"
  }
 },
 "nbformat": 4,
 "nbformat_minor": 2
}
